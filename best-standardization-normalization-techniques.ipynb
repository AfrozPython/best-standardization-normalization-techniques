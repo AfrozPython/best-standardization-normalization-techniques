{
 "cells": [
  {
   "cell_type": "code",
   "execution_count": 1,
   "id": "aa10330d",
   "metadata": {
    "execution": {
     "iopub.execute_input": "2022-07-22T00:46:37.485635Z",
     "iopub.status.busy": "2022-07-22T00:46:37.485038Z",
     "iopub.status.idle": "2022-07-22T00:46:37.507129Z",
     "shell.execute_reply": "2022-07-22T00:46:37.506328Z"
    },
    "papermill": {
     "duration": 0.043527,
     "end_time": "2022-07-22T00:46:37.509960",
     "exception": false,
     "start_time": "2022-07-22T00:46:37.466433",
     "status": "completed"
    },
    "tags": []
   },
   "outputs": [
    {
     "name": "stdout",
     "output_type": "stream",
     "text": [
      "/kaggle/input/wine-quality-red/winequality-red.csv\n"
     ]
    }
   ],
   "source": [
    "# This Python 3 environment comes with many helpful analytics libraries installed\n",
    "# It is defined by the kaggle/python Docker image: https://github.com/kaggle/docker-python\n",
    "# For example, here's several helpful packages to load\n",
    "\n",
    "import numpy as np # linear algebra\n",
    "import pandas as pd # data processing, CSV file I/O (e.g. pd.read_csv)\n",
    "\n",
    "# Input data files are available in the read-only \"../input/\" directory\n",
    "# For example, running this (by clicking run or pressing Shift+Enter) will list all files under the input directory\n",
    "\n",
    "import os\n",
    "for dirname, _, filenames in os.walk('/kaggle/input'):\n",
    "    for filename in filenames:\n",
    "        print(os.path.join(dirname, filename))\n",
    "\n",
    "# You can write up to 20GB to the current directory (/kaggle/working/) that gets preserved as output when you create a version using \"Save & Run All\" \n",
    "# You can also write temporary files to /kaggle/temp/, but they won't be saved outside of the current session"
   ]
  },
  {
   "cell_type": "code",
   "execution_count": 2,
   "id": "c1ff57d6",
   "metadata": {
    "execution": {
     "iopub.execute_input": "2022-07-22T00:46:37.540723Z",
     "iopub.status.busy": "2022-07-22T00:46:37.540302Z",
     "iopub.status.idle": "2022-07-22T00:46:38.802398Z",
     "shell.execute_reply": "2022-07-22T00:46:38.801542Z"
    },
    "papermill": {
     "duration": 1.281001,
     "end_time": "2022-07-22T00:46:38.804966",
     "exception": false,
     "start_time": "2022-07-22T00:46:37.523965",
     "status": "completed"
    },
    "tags": []
   },
   "outputs": [],
   "source": [
    "import numpy as np \n",
    "import pandas as pd \n",
    "import seaborn as sns\n",
    "import matplotlib.pyplot as plt \n",
    "%matplotlib inline \n",
    "\n",
    "import warnings\n",
    "warnings.filterwarnings('ignore')"
   ]
  },
  {
   "cell_type": "code",
   "execution_count": 3,
   "id": "1ded46d2",
   "metadata": {
    "execution": {
     "iopub.execute_input": "2022-07-22T00:46:38.836707Z",
     "iopub.status.busy": "2022-07-22T00:46:38.836060Z",
     "iopub.status.idle": "2022-07-22T00:46:38.877975Z",
     "shell.execute_reply": "2022-07-22T00:46:38.876284Z"
    },
    "papermill": {
     "duration": 0.061048,
     "end_time": "2022-07-22T00:46:38.880981",
     "exception": false,
     "start_time": "2022-07-22T00:46:38.819933",
     "status": "completed"
    },
    "tags": []
   },
   "outputs": [
    {
     "data": {
      "text/html": [
       "<div>\n",
       "<style scoped>\n",
       "    .dataframe tbody tr th:only-of-type {\n",
       "        vertical-align: middle;\n",
       "    }\n",
       "\n",
       "    .dataframe tbody tr th {\n",
       "        vertical-align: top;\n",
       "    }\n",
       "\n",
       "    .dataframe thead th {\n",
       "        text-align: right;\n",
       "    }\n",
       "</style>\n",
       "<table border=\"1\" class=\"dataframe\">\n",
       "  <thead>\n",
       "    <tr style=\"text-align: right;\">\n",
       "      <th></th>\n",
       "      <th>fixed acidity</th>\n",
       "      <th>citric acid</th>\n",
       "      <th>total sulfur dioxide</th>\n",
       "      <th>alcohol</th>\n",
       "    </tr>\n",
       "  </thead>\n",
       "  <tbody>\n",
       "    <tr>\n",
       "      <th>0</th>\n",
       "      <td>7.4</td>\n",
       "      <td>0.00</td>\n",
       "      <td>34.0</td>\n",
       "      <td>9.4</td>\n",
       "    </tr>\n",
       "    <tr>\n",
       "      <th>1</th>\n",
       "      <td>7.8</td>\n",
       "      <td>0.00</td>\n",
       "      <td>67.0</td>\n",
       "      <td>9.8</td>\n",
       "    </tr>\n",
       "    <tr>\n",
       "      <th>2</th>\n",
       "      <td>7.8</td>\n",
       "      <td>0.04</td>\n",
       "      <td>54.0</td>\n",
       "      <td>9.8</td>\n",
       "    </tr>\n",
       "    <tr>\n",
       "      <th>3</th>\n",
       "      <td>11.2</td>\n",
       "      <td>0.56</td>\n",
       "      <td>60.0</td>\n",
       "      <td>9.8</td>\n",
       "    </tr>\n",
       "    <tr>\n",
       "      <th>4</th>\n",
       "      <td>7.4</td>\n",
       "      <td>0.00</td>\n",
       "      <td>34.0</td>\n",
       "      <td>9.4</td>\n",
       "    </tr>\n",
       "  </tbody>\n",
       "</table>\n",
       "</div>"
      ],
      "text/plain": [
       "   fixed acidity  citric acid  total sulfur dioxide  alcohol\n",
       "0            7.4         0.00                  34.0      9.4\n",
       "1            7.8         0.00                  67.0      9.8\n",
       "2            7.8         0.04                  54.0      9.8\n",
       "3           11.2         0.56                  60.0      9.8\n",
       "4            7.4         0.00                  34.0      9.4"
      ]
     },
     "execution_count": 3,
     "metadata": {},
     "output_type": "execute_result"
    }
   ],
   "source": [
    "wine = pd.read_csv('../input/wine-quality-red/winequality-red.csv',usecols=['fixed acidity','citric acid','total sulfur dioxide','alcohol'])\n",
    "wine.head()"
   ]
  },
  {
   "cell_type": "markdown",
   "id": "8a409caf",
   "metadata": {
    "papermill": {
     "duration": 0.01375,
     "end_time": "2022-07-22T00:46:38.910722",
     "exception": false,
     "start_time": "2022-07-22T00:46:38.896972",
     "status": "completed"
    },
    "tags": []
   },
   "source": [
    "<div style=\"font-family: WildWest; line-height: 2; color: IndianRed; text-align: justify\">\n",
    "    📊👉 <b>Standardization</b> :\n",
    "    <ol start=\"1\">\n",
    "        <li> <b>Standard Scaler</b>,</li>\n",
    "    </ol>\n",
    "</div>"
   ]
  },
  {
   "cell_type": "markdown",
   "id": "ad386d82",
   "metadata": {
    "papermill": {
     "duration": 0.014004,
     "end_time": "2022-07-22T00:46:38.938703",
     "exception": false,
     "start_time": "2022-07-22T00:46:38.924699",
     "status": "completed"
    },
    "tags": []
   },
   "source": [
    "<div style=\"font-family: WildWest; line-height: 2; color: Green; text-align: justify\">\n",
    "    📈👉 <b>Normalization:</b> :\n",
    "    <ol start=\"1\">\n",
    "        <li> <b>Min Max Scaling</b>,</li>\n",
    "        <li> <b>Robust Scaling</b>,</li>\n",
    "        <li> <b>Max Absolute Scaling</b>,</li>\n",
    "    </ol>\n",
    "</div>"
   ]
  },
  {
   "cell_type": "markdown",
   "id": "dfd4d943",
   "metadata": {
    "papermill": {
     "duration": 0.013775,
     "end_time": "2022-07-22T00:46:38.966443",
     "exception": false,
     "start_time": "2022-07-22T00:46:38.952668",
     "status": "completed"
    },
    "tags": []
   },
   "source": [
    "<h1 style=\"text-align: justify; font-family: 'WildWest'; font-size:25px; color:IndianRed\"> Feature Scaling </h1>\n",
    "\n",
    "Feature Scaling is a technique to standardize the independent features present in the data in a fixed range. It is performed during the data pre-processing. \n",
    "\n",
    "Many machine learning algorithms like Gradient descent methods, KNN algorithm, linear and logistic regression, etc. require data scaling to produce good results. Various scalers are defined for this purpose\n",
    "\n",
    "Some machine learning models are fundamentally based on distance matrix, also known as the distance-based classifier, for example, K-Nearest-Neighbours, SVM, and Neural Network. Feature scaling is extremely essential to those models, especially when the range of the features is very different. Otherwise, features with a large range will have a large influence in computing the distance.\n",
    "\n",
    "Max-Min Normalisation typically allows us to transform the data with varying scales so that no specific dimension will dominate the statistics, and it does not require making a very strong assumption about the distribution of the data, such as k-nearest neighbours and artificial neural networks. However, Normalisation does not treat outliners very well. On the contrary, standardisation allows users to better handle the outliers and facilitate convergence for some computational algorithms like gradient descent. Therefore, we usually prefer standardisation over Min-Max Normalisation.\n",
    "\n",
    "\n",
    "<center><img src=\"https://miro.medium.com/max/1400/1*qRmiffZgkNaXnTBZwDafCA.png\" alt=\"Heart Disease\" width=\"70%\"></center>"
   ]
  },
  {
   "cell_type": "code",
   "execution_count": 4,
   "id": "fe9bfc60",
   "metadata": {
    "execution": {
     "iopub.execute_input": "2022-07-22T00:46:38.996127Z",
     "iopub.status.busy": "2022-07-22T00:46:38.995726Z",
     "iopub.status.idle": "2022-07-22T00:46:39.166933Z",
     "shell.execute_reply": "2022-07-22T00:46:39.165767Z"
    },
    "papermill": {
     "duration": 0.189116,
     "end_time": "2022-07-22T00:46:39.169639",
     "exception": false,
     "start_time": "2022-07-22T00:46:38.980523",
     "status": "completed"
    },
    "tags": []
   },
   "outputs": [],
   "source": [
    "from sklearn import preprocessing\n",
    "\n",
    "scaler = preprocessing.MinMaxScaler()\n",
    "minmax = scaler.fit_transform(wine)\n",
    "minmax = pd.DataFrame(minmax, columns =['fixed acidity','citric acid','total sulfur dioxide','alcohol'])\n",
    "\n",
    "scaler = preprocessing.StandardScaler()\n",
    "standard = scaler.fit_transform(wine)\n",
    "standard = pd.DataFrame(standard, columns =['fixed acidity','citric acid','total sulfur dioxide','alcohol'])\n",
    "\n",
    "scaler = preprocessing.RobustScaler()\n",
    "robust = scaler.fit_transform(wine)\n",
    "robust = pd.DataFrame(robust, columns =['fixed acidity','citric acid','total sulfur dioxide','alcohol'])"
   ]
  },
  {
   "cell_type": "code",
   "execution_count": 5,
   "id": "4a36aa9d",
   "metadata": {
    "execution": {
     "iopub.execute_input": "2022-07-22T00:46:39.200366Z",
     "iopub.status.busy": "2022-07-22T00:46:39.199243Z",
     "iopub.status.idle": "2022-07-22T00:46:39.239144Z",
     "shell.execute_reply": "2022-07-22T00:46:39.237971Z"
    },
    "papermill": {
     "duration": 0.057668,
     "end_time": "2022-07-22T00:46:39.241328",
     "exception": false,
     "start_time": "2022-07-22T00:46:39.183660",
     "status": "completed"
    },
    "tags": []
   },
   "outputs": [
    {
     "name": "stdout",
     "output_type": "stream",
     "text": [
      "\u001b[1mWithout scaling:\u001b[0m\n"
     ]
    },
    {
     "data": {
      "text/html": [
       "<div>\n",
       "<style scoped>\n",
       "    .dataframe tbody tr th:only-of-type {\n",
       "        vertical-align: middle;\n",
       "    }\n",
       "\n",
       "    .dataframe tbody tr th {\n",
       "        vertical-align: top;\n",
       "    }\n",
       "\n",
       "    .dataframe thead th {\n",
       "        text-align: right;\n",
       "    }\n",
       "</style>\n",
       "<table border=\"1\" class=\"dataframe\">\n",
       "  <thead>\n",
       "    <tr style=\"text-align: right;\">\n",
       "      <th></th>\n",
       "      <th>fixed acidity</th>\n",
       "      <th>citric acid</th>\n",
       "      <th>total sulfur dioxide</th>\n",
       "      <th>alcohol</th>\n",
       "    </tr>\n",
       "  </thead>\n",
       "  <tbody>\n",
       "    <tr>\n",
       "      <th>0</th>\n",
       "      <td>7.4</td>\n",
       "      <td>0.00</td>\n",
       "      <td>34.0</td>\n",
       "      <td>9.4</td>\n",
       "    </tr>\n",
       "    <tr>\n",
       "      <th>1</th>\n",
       "      <td>7.8</td>\n",
       "      <td>0.00</td>\n",
       "      <td>67.0</td>\n",
       "      <td>9.8</td>\n",
       "    </tr>\n",
       "    <tr>\n",
       "      <th>2</th>\n",
       "      <td>7.8</td>\n",
       "      <td>0.04</td>\n",
       "      <td>54.0</td>\n",
       "      <td>9.8</td>\n",
       "    </tr>\n",
       "    <tr>\n",
       "      <th>3</th>\n",
       "      <td>11.2</td>\n",
       "      <td>0.56</td>\n",
       "      <td>60.0</td>\n",
       "      <td>9.8</td>\n",
       "    </tr>\n",
       "    <tr>\n",
       "      <th>4</th>\n",
       "      <td>7.4</td>\n",
       "      <td>0.00</td>\n",
       "      <td>34.0</td>\n",
       "      <td>9.4</td>\n",
       "    </tr>\n",
       "  </tbody>\n",
       "</table>\n",
       "</div>"
      ],
      "text/plain": [
       "   fixed acidity  citric acid  total sulfur dioxide  alcohol\n",
       "0            7.4         0.00                  34.0      9.4\n",
       "1            7.8         0.00                  67.0      9.8\n",
       "2            7.8         0.04                  54.0      9.8\n",
       "3           11.2         0.56                  60.0      9.8\n",
       "4            7.4         0.00                  34.0      9.4"
      ]
     },
     "metadata": {},
     "output_type": "display_data"
    },
    {
     "name": "stdout",
     "output_type": "stream",
     "text": [
      "*********************************************\n",
      "\u001b[1mWith minmax scaling:\u001b[0m\n"
     ]
    },
    {
     "data": {
      "text/html": [
       "<div>\n",
       "<style scoped>\n",
       "    .dataframe tbody tr th:only-of-type {\n",
       "        vertical-align: middle;\n",
       "    }\n",
       "\n",
       "    .dataframe tbody tr th {\n",
       "        vertical-align: top;\n",
       "    }\n",
       "\n",
       "    .dataframe thead th {\n",
       "        text-align: right;\n",
       "    }\n",
       "</style>\n",
       "<table border=\"1\" class=\"dataframe\">\n",
       "  <thead>\n",
       "    <tr style=\"text-align: right;\">\n",
       "      <th></th>\n",
       "      <th>fixed acidity</th>\n",
       "      <th>citric acid</th>\n",
       "      <th>total sulfur dioxide</th>\n",
       "      <th>alcohol</th>\n",
       "    </tr>\n",
       "  </thead>\n",
       "  <tbody>\n",
       "    <tr>\n",
       "      <th>0</th>\n",
       "      <td>0.247788</td>\n",
       "      <td>0.00</td>\n",
       "      <td>0.098940</td>\n",
       "      <td>0.153846</td>\n",
       "    </tr>\n",
       "    <tr>\n",
       "      <th>1</th>\n",
       "      <td>0.283186</td>\n",
       "      <td>0.00</td>\n",
       "      <td>0.215548</td>\n",
       "      <td>0.215385</td>\n",
       "    </tr>\n",
       "    <tr>\n",
       "      <th>2</th>\n",
       "      <td>0.283186</td>\n",
       "      <td>0.04</td>\n",
       "      <td>0.169611</td>\n",
       "      <td>0.215385</td>\n",
       "    </tr>\n",
       "    <tr>\n",
       "      <th>3</th>\n",
       "      <td>0.584071</td>\n",
       "      <td>0.56</td>\n",
       "      <td>0.190813</td>\n",
       "      <td>0.215385</td>\n",
       "    </tr>\n",
       "    <tr>\n",
       "      <th>4</th>\n",
       "      <td>0.247788</td>\n",
       "      <td>0.00</td>\n",
       "      <td>0.098940</td>\n",
       "      <td>0.153846</td>\n",
       "    </tr>\n",
       "  </tbody>\n",
       "</table>\n",
       "</div>"
      ],
      "text/plain": [
       "   fixed acidity  citric acid  total sulfur dioxide   alcohol\n",
       "0       0.247788         0.00              0.098940  0.153846\n",
       "1       0.283186         0.00              0.215548  0.215385\n",
       "2       0.283186         0.04              0.169611  0.215385\n",
       "3       0.584071         0.56              0.190813  0.215385\n",
       "4       0.247788         0.00              0.098940  0.153846"
      ]
     },
     "metadata": {},
     "output_type": "display_data"
    },
    {
     "name": "stdout",
     "output_type": "stream",
     "text": [
      "*********************************************\n",
      "\u001b[1mWith standard scaling:\u001b[0m\n"
     ]
    },
    {
     "data": {
      "text/html": [
       "<div>\n",
       "<style scoped>\n",
       "    .dataframe tbody tr th:only-of-type {\n",
       "        vertical-align: middle;\n",
       "    }\n",
       "\n",
       "    .dataframe tbody tr th {\n",
       "        vertical-align: top;\n",
       "    }\n",
       "\n",
       "    .dataframe thead th {\n",
       "        text-align: right;\n",
       "    }\n",
       "</style>\n",
       "<table border=\"1\" class=\"dataframe\">\n",
       "  <thead>\n",
       "    <tr style=\"text-align: right;\">\n",
       "      <th></th>\n",
       "      <th>fixed acidity</th>\n",
       "      <th>citric acid</th>\n",
       "      <th>total sulfur dioxide</th>\n",
       "      <th>alcohol</th>\n",
       "    </tr>\n",
       "  </thead>\n",
       "  <tbody>\n",
       "    <tr>\n",
       "      <th>0</th>\n",
       "      <td>-0.528360</td>\n",
       "      <td>-1.391472</td>\n",
       "      <td>-0.379133</td>\n",
       "      <td>-0.960246</td>\n",
       "    </tr>\n",
       "    <tr>\n",
       "      <th>1</th>\n",
       "      <td>-0.298547</td>\n",
       "      <td>-1.391472</td>\n",
       "      <td>0.624363</td>\n",
       "      <td>-0.584777</td>\n",
       "    </tr>\n",
       "    <tr>\n",
       "      <th>2</th>\n",
       "      <td>-0.298547</td>\n",
       "      <td>-1.186070</td>\n",
       "      <td>0.229047</td>\n",
       "      <td>-0.584777</td>\n",
       "    </tr>\n",
       "    <tr>\n",
       "      <th>3</th>\n",
       "      <td>1.654856</td>\n",
       "      <td>1.484154</td>\n",
       "      <td>0.411500</td>\n",
       "      <td>-0.584777</td>\n",
       "    </tr>\n",
       "    <tr>\n",
       "      <th>4</th>\n",
       "      <td>-0.528360</td>\n",
       "      <td>-1.391472</td>\n",
       "      <td>-0.379133</td>\n",
       "      <td>-0.960246</td>\n",
       "    </tr>\n",
       "  </tbody>\n",
       "</table>\n",
       "</div>"
      ],
      "text/plain": [
       "   fixed acidity  citric acid  total sulfur dioxide   alcohol\n",
       "0      -0.528360    -1.391472             -0.379133 -0.960246\n",
       "1      -0.298547    -1.391472              0.624363 -0.584777\n",
       "2      -0.298547    -1.186070              0.229047 -0.584777\n",
       "3       1.654856     1.484154              0.411500 -0.584777\n",
       "4      -0.528360    -1.391472             -0.379133 -0.960246"
      ]
     },
     "metadata": {},
     "output_type": "display_data"
    },
    {
     "name": "stdout",
     "output_type": "stream",
     "text": [
      "*********************************************\n",
      "\u001b[1mWith robust scaling:\u001b[0m\n"
     ]
    },
    {
     "data": {
      "text/html": [
       "<div>\n",
       "<style scoped>\n",
       "    .dataframe tbody tr th:only-of-type {\n",
       "        vertical-align: middle;\n",
       "    }\n",
       "\n",
       "    .dataframe tbody tr th {\n",
       "        vertical-align: top;\n",
       "    }\n",
       "\n",
       "    .dataframe thead th {\n",
       "        text-align: right;\n",
       "    }\n",
       "</style>\n",
       "<table border=\"1\" class=\"dataframe\">\n",
       "  <thead>\n",
       "    <tr style=\"text-align: right;\">\n",
       "      <th></th>\n",
       "      <th>fixed acidity</th>\n",
       "      <th>citric acid</th>\n",
       "      <th>total sulfur dioxide</th>\n",
       "      <th>alcohol</th>\n",
       "    </tr>\n",
       "  </thead>\n",
       "  <tbody>\n",
       "    <tr>\n",
       "      <th>0</th>\n",
       "      <td>-0.238095</td>\n",
       "      <td>-0.787879</td>\n",
       "      <td>-0.100</td>\n",
       "      <td>-0.50</td>\n",
       "    </tr>\n",
       "    <tr>\n",
       "      <th>1</th>\n",
       "      <td>-0.047619</td>\n",
       "      <td>-0.787879</td>\n",
       "      <td>0.725</td>\n",
       "      <td>-0.25</td>\n",
       "    </tr>\n",
       "    <tr>\n",
       "      <th>2</th>\n",
       "      <td>-0.047619</td>\n",
       "      <td>-0.666667</td>\n",
       "      <td>0.400</td>\n",
       "      <td>-0.25</td>\n",
       "    </tr>\n",
       "    <tr>\n",
       "      <th>3</th>\n",
       "      <td>1.571429</td>\n",
       "      <td>0.909091</td>\n",
       "      <td>0.550</td>\n",
       "      <td>-0.25</td>\n",
       "    </tr>\n",
       "    <tr>\n",
       "      <th>4</th>\n",
       "      <td>-0.238095</td>\n",
       "      <td>-0.787879</td>\n",
       "      <td>-0.100</td>\n",
       "      <td>-0.50</td>\n",
       "    </tr>\n",
       "  </tbody>\n",
       "</table>\n",
       "</div>"
      ],
      "text/plain": [
       "   fixed acidity  citric acid  total sulfur dioxide  alcohol\n",
       "0      -0.238095    -0.787879                -0.100    -0.50\n",
       "1      -0.047619    -0.787879                 0.725    -0.25\n",
       "2      -0.047619    -0.666667                 0.400    -0.25\n",
       "3       1.571429     0.909091                 0.550    -0.25\n",
       "4      -0.238095    -0.787879                -0.100    -0.50"
      ]
     },
     "metadata": {},
     "output_type": "display_data"
    }
   ],
   "source": [
    "print('\\033[1m'+'Without scaling:'+'\\033[0m')\n",
    "display(wine.head())\n",
    "print('*' * 45)\n",
    "print('\\033[1m'+'With minmax scaling:'+'\\033[0m')\n",
    "display(minmax.head())\n",
    "print('*' * 45)\n",
    "print('\\033[1m'+'With standard scaling:'+'\\033[0m')\n",
    "display(standard.head())\n",
    "print('*' * 45 )\n",
    "print('\\033[1m'+'With robust scaling:'+'\\033[0m')\n",
    "display(robust.head())"
   ]
  },
  {
   "cell_type": "code",
   "execution_count": 6,
   "id": "171371d6",
   "metadata": {
    "execution": {
     "iopub.execute_input": "2022-07-22T00:46:39.274152Z",
     "iopub.status.busy": "2022-07-22T00:46:39.273745Z",
     "iopub.status.idle": "2022-07-22T00:46:40.202354Z",
     "shell.execute_reply": "2022-07-22T00:46:40.201078Z"
    },
    "papermill": {
     "duration": 0.947603,
     "end_time": "2022-07-22T00:46:40.204838",
     "exception": false,
     "start_time": "2022-07-22T00:46:39.257235",
     "status": "completed"
    },
    "tags": []
   },
   "outputs": [
    {
     "data": {
      "image/png": "[encoded data removed]",
      "text/plain": [
       "<Figure size 1080x288 with 4 Axes>"
      ]
     },
     "metadata": {
      "needs_background": "light"
     },
     "output_type": "display_data"
    }
   ],
   "source": [
    "plt.figure(figsize=(15,4))\n",
    "\n",
    "plt.subplot(1,4,1)\n",
    "sns.kdeplot(wine['fixed acidity'], color ='red')\n",
    "sns.kdeplot(wine['citric acid'],  color ='green')\n",
    "sns.kdeplot(wine['total sulfur dioxide'],  color ='blue')\n",
    "sns.kdeplot(wine['alcohol'],  color ='brown')\n",
    "plt.title('Without Scaling')\n",
    "\n",
    "plt.subplot(1,4,4) \n",
    "sns.kdeplot(minmax['fixed acidity'],  color ='red')\n",
    "sns.kdeplot(minmax['citric acid'],  color ='green')\n",
    "sns.kdeplot(minmax['total sulfur dioxide'],  color ='blue')\n",
    "sns.kdeplot(minmax['alcohol'],  color ='brown')\n",
    "plt.title('After Min-Max Scaling')\n",
    "\n",
    "plt.subplot(1,4,3)\n",
    "sns.kdeplot(standard['fixed acidity'], color ='red')\n",
    "sns.kdeplot(standard['citric acid'],  color ='green')\n",
    "sns.kdeplot(standard['total sulfur dioxide'],  color ='blue')\n",
    "sns.kdeplot(standard['alcohol'],  color ='brown')\n",
    "plt.title('After Standard Scaling')\n",
    "\n",
    "plt.subplot(1,4,2)\n",
    "sns.kdeplot(robust['fixed acidity'],  color ='red')\n",
    "sns.kdeplot(robust['citric acid'],  color ='green')\n",
    "sns.kdeplot(robust['total sulfur dioxide'],  color ='blue')\n",
    "sns.kdeplot(robust['alcohol'],  color ='brown')\n",
    "plt.title('After Robust Scaling')\n",
    "\n",
    "\n",
    "plt.tight_layout()\n",
    "plt.show()"
   ]
  },
  {
   "cell_type": "code",
   "execution_count": 7,
   "id": "53190e11",
   "metadata": {
    "execution": {
     "iopub.execute_input": "2022-07-22T00:46:40.239824Z",
     "iopub.status.busy": "2022-07-22T00:46:40.239435Z",
     "iopub.status.idle": "2022-07-22T00:46:40.247796Z",
     "shell.execute_reply": "2022-07-22T00:46:40.246814Z"
    },
    "papermill": {
     "duration": 0.028563,
     "end_time": "2022-07-22T00:46:40.249912",
     "exception": false,
     "start_time": "2022-07-22T00:46:40.221349",
     "status": "completed"
    },
    "tags": []
   },
   "outputs": [
    {
     "data": {
      "text/plain": [
       "fixed acidity            1.741096\n",
       "citric acid              0.194801\n",
       "total sulfur dioxide    32.895324\n",
       "alcohol                  1.065668\n",
       "dtype: float64"
      ]
     },
     "execution_count": 7,
     "metadata": {},
     "output_type": "execute_result"
    }
   ],
   "source": [
    "wine.std()"
   ]
  },
  {
   "cell_type": "code",
   "execution_count": 8,
   "id": "c441bc24",
   "metadata": {
    "execution": {
     "iopub.execute_input": "2022-07-22T00:46:40.285486Z",
     "iopub.status.busy": "2022-07-22T00:46:40.284725Z",
     "iopub.status.idle": "2022-07-22T00:46:40.293687Z",
     "shell.execute_reply": "2022-07-22T00:46:40.292733Z"
    },
    "papermill": {
     "duration": 0.029751,
     "end_time": "2022-07-22T00:46:40.296264",
     "exception": false,
     "start_time": "2022-07-22T00:46:40.266513",
     "status": "completed"
    },
    "tags": []
   },
   "outputs": [
    {
     "data": {
      "text/plain": [
       "fixed acidity           0.154079\n",
       "citric acid             0.194801\n",
       "total sulfur dioxide    0.116238\n",
       "alcohol                 0.163949\n",
       "dtype: float64"
      ]
     },
     "execution_count": 8,
     "metadata": {},
     "output_type": "execute_result"
    }
   ],
   "source": [
    "minmax.std()"
   ]
  },
  {
   "cell_type": "code",
   "execution_count": 9,
   "id": "fa24c195",
   "metadata": {
    "execution": {
     "iopub.execute_input": "2022-07-22T00:46:40.330756Z",
     "iopub.status.busy": "2022-07-22T00:46:40.330365Z",
     "iopub.status.idle": "2022-07-22T00:46:40.338397Z",
     "shell.execute_reply": "2022-07-22T00:46:40.337598Z"
    },
    "papermill": {
     "duration": 0.027766,
     "end_time": "2022-07-22T00:46:40.340544",
     "exception": false,
     "start_time": "2022-07-22T00:46:40.312778",
     "status": "completed"
    },
    "tags": []
   },
   "outputs": [
    {
     "data": {
      "text/plain": [
       "fixed acidity           1.000313\n",
       "citric acid             1.000313\n",
       "total sulfur dioxide    1.000313\n",
       "alcohol                 1.000313\n",
       "dtype: float64"
      ]
     },
     "execution_count": 9,
     "metadata": {},
     "output_type": "execute_result"
    }
   ],
   "source": [
    "standard.std()"
   ]
  },
  {
   "cell_type": "code",
   "execution_count": 10,
   "id": "8ec482c9",
   "metadata": {
    "execution": {
     "iopub.execute_input": "2022-07-22T00:46:40.376407Z",
     "iopub.status.busy": "2022-07-22T00:46:40.375416Z",
     "iopub.status.idle": "2022-07-22T00:46:40.383889Z",
     "shell.execute_reply": "2022-07-22T00:46:40.382860Z"
    },
    "papermill": {
     "duration": 0.02887,
     "end_time": "2022-07-22T00:46:40.386199",
     "exception": false,
     "start_time": "2022-07-22T00:46:40.357329",
     "status": "completed"
    },
    "tags": []
   },
   "outputs": [
    {
     "data": {
      "text/plain": [
       "fixed acidity           0.829093\n",
       "citric acid             0.590306\n",
       "total sulfur dioxide    0.822383\n",
       "alcohol                 0.666042\n",
       "dtype: float64"
      ]
     },
     "execution_count": 10,
     "metadata": {},
     "output_type": "execute_result"
    }
   ],
   "source": [
    "robust.std()"
   ]
  },
  {
   "cell_type": "code",
   "execution_count": 11,
   "id": "4feca4ae",
   "metadata": {
    "execution": {
     "iopub.execute_input": "2022-07-22T00:46:40.422976Z",
     "iopub.status.busy": "2022-07-22T00:46:40.421624Z",
     "iopub.status.idle": "2022-07-22T00:46:41.419242Z",
     "shell.execute_reply": "2022-07-22T00:46:41.418171Z"
    },
    "papermill": {
     "duration": 1.018592,
     "end_time": "2022-07-22T00:46:41.421874",
     "exception": false,
     "start_time": "2022-07-22T00:46:40.403282",
     "status": "completed"
    },
    "tags": []
   },
   "outputs": [
    {
     "data": {
      "image/png": "[encoded data removed]",
      "text/plain": [
       "<Figure size 1008x576 with 4 Axes>"
      ]
     },
     "metadata": {
      "needs_background": "light"
     },
     "output_type": "display_data"
    }
   ],
   "source": [
    "## Distribution of data without any Scaling Method\n",
    "plt.figure(figsize=(14,8))\n",
    "for i,col in enumerate(wine.columns,1):\n",
    "    plt.subplot(4,1,i)\n",
    "    plt.title(f\"Distribution of {col} Data\")\n",
    "    sns.histplot(wine[col],kde=True)\n",
    "    plt.tight_layout()\n",
    "    plt.plot()"
   ]
  },
  {
   "cell_type": "code",
   "execution_count": 12,
   "id": "d8588fad",
   "metadata": {
    "execution": {
     "iopub.execute_input": "2022-07-22T00:46:41.459804Z",
     "iopub.status.busy": "2022-07-22T00:46:41.459117Z",
     "iopub.status.idle": "2022-07-22T00:46:42.439002Z",
     "shell.execute_reply": "2022-07-22T00:46:42.437793Z"
    },
    "papermill": {
     "duration": 1.001831,
     "end_time": "2022-07-22T00:46:42.441436",
     "exception": false,
     "start_time": "2022-07-22T00:46:41.439605",
     "status": "completed"
    },
    "tags": []
   },
   "outputs": [
    {
     "data": {
      "image/png": "[encoded data removed]",
      "text/plain": [
       "<Figure size 1008x576 with 4 Axes>"
      ]
     },
     "metadata": {
      "needs_background": "light"
     },
     "output_type": "display_data"
    }
   ],
   "source": [
    "## Distribution of data with MinMax Scaling\n",
    "plt.figure(figsize=(14,8))\n",
    "for i,col in enumerate(minmax.columns,1):\n",
    "    plt.subplot(4,1,i)\n",
    "    plt.title(f\"Distribution of {col} Data\")\n",
    "    sns.histplot(minmax[col],kde=True)\n",
    "    plt.tight_layout()\n",
    "    plt.plot()"
   ]
  },
  {
   "cell_type": "code",
   "execution_count": 13,
   "id": "42f6ef2b",
   "metadata": {
    "execution": {
     "iopub.execute_input": "2022-07-22T00:46:42.482257Z",
     "iopub.status.busy": "2022-07-22T00:46:42.481843Z",
     "iopub.status.idle": "2022-07-22T00:46:43.667095Z",
     "shell.execute_reply": "2022-07-22T00:46:43.666012Z"
    },
    "papermill": {
     "duration": 1.209026,
     "end_time": "2022-07-22T00:46:43.669545",
     "exception": false,
     "start_time": "2022-07-22T00:46:42.460519",
     "status": "completed"
    },
    "tags": []
   },
   "outputs": [
    {
     "data": {
      "image/png": "[encoded data removed]",
      "text/plain": [
       "<Figure size 1008x576 with 4 Axes>"
      ]
     },
     "metadata": {
      "needs_background": "light"
     },
     "output_type": "display_data"
    }
   ],
   "source": [
    "## Distribution of data with Standard Scaler Scaling\n",
    "plt.figure(figsize=(14,8))\n",
    "for i,col in enumerate(standard.columns,1):\n",
    "    plt.subplot(4,1,i)\n",
    "    plt.title(f\"Distribution of {col} Data\")\n",
    "    sns.histplot(standard[col],kde=True)\n",
    "    plt.tight_layout()\n",
    "    plt.plot()"
   ]
  },
  {
   "cell_type": "code",
   "execution_count": 14,
   "id": "b38a77fc",
   "metadata": {
    "execution": {
     "iopub.execute_input": "2022-07-22T00:46:43.713357Z",
     "iopub.status.busy": "2022-07-22T00:46:43.712948Z",
     "iopub.status.idle": "2022-07-22T00:46:44.768657Z",
     "shell.execute_reply": "2022-07-22T00:46:44.767299Z"
    },
    "papermill": {
     "duration": 1.081714,
     "end_time": "2022-07-22T00:46:44.771639",
     "exception": false,
     "start_time": "2022-07-22T00:46:43.689925",
     "status": "completed"
    },
    "tags": []
   },
   "outputs": [
    {
     "data": {
      "image/png": "[encoded data removed]",
      "text/plain": [
       "<Figure size 1008x576 with 4 Axes>"
      ]
     },
     "metadata": {
      "needs_background": "light"
     },
     "output_type": "display_data"
    }
   ],
   "source": [
    "## Distribution of data with Robust Scaling\n",
    "plt.figure(figsize=(14,8))\n",
    "for i,col in enumerate(robust.columns,1):\n",
    "    plt.subplot(4,1,i)\n",
    "    plt.title(f\"Distribution of {col} Data\")\n",
    "    sns.histplot(robust[col],kde=True)\n",
    "    plt.tight_layout()\n",
    "    plt.plot()"
   ]
  },
  {
   "cell_type": "markdown",
   "id": "3a8ca9d9",
   "metadata": {
    "papermill": {
     "duration": 0.022521,
     "end_time": "2022-07-22T00:46:44.821370",
     "exception": false,
     "start_time": "2022-07-22T00:46:44.798849",
     "status": "completed"
    },
    "tags": []
   },
   "source": [
    "<font color=\"IndianRed\" size=+2 face=\"WildWest\"><div style=\"text-align: justify\">Data comparison using various scales</font>\n",
    "\n",
    "<center><img src=\"https://miro.medium.com/max/1400/0*1z5qSf5fjqEnVdx5.png\" alt=\"Heart Disease\" width=\"60%\"></center>"
   ]
  },
  {
   "cell_type": "markdown",
   "id": "2f0e3c46",
   "metadata": {
    "papermill": {
     "duration": 0.022094,
     "end_time": "2022-07-22T00:46:44.866676",
     "exception": false,
     "start_time": "2022-07-22T00:46:44.844582",
     "status": "completed"
    },
    "tags": []
   },
   "source": [
    "<h1 style=\"text-align: justify; font-family: 'WildWest'; font-size:25px; color:IndianRed\"> Model Building </h1>"
   ]
  },
  {
   "cell_type": "code",
   "execution_count": 15,
   "id": "bacadf9d",
   "metadata": {
    "execution": {
     "iopub.execute_input": "2022-07-22T00:46:44.915316Z",
     "iopub.status.busy": "2022-07-22T00:46:44.914911Z",
     "iopub.status.idle": "2022-07-22T00:46:44.943401Z",
     "shell.execute_reply": "2022-07-22T00:46:44.942266Z"
    },
    "papermill": {
     "duration": 0.055372,
     "end_time": "2022-07-22T00:46:44.945816",
     "exception": false,
     "start_time": "2022-07-22T00:46:44.890444",
     "status": "completed"
    },
    "tags": []
   },
   "outputs": [
    {
     "data": {
      "text/html": [
       "<div>\n",
       "<style scoped>\n",
       "    .dataframe tbody tr th:only-of-type {\n",
       "        vertical-align: middle;\n",
       "    }\n",
       "\n",
       "    .dataframe tbody tr th {\n",
       "        vertical-align: top;\n",
       "    }\n",
       "\n",
       "    .dataframe thead th {\n",
       "        text-align: right;\n",
       "    }\n",
       "</style>\n",
       "<table border=\"1\" class=\"dataframe\">\n",
       "  <thead>\n",
       "    <tr style=\"text-align: right;\">\n",
       "      <th></th>\n",
       "      <th>fixed acidity</th>\n",
       "      <th>volatile acidity</th>\n",
       "      <th>citric acid</th>\n",
       "      <th>residual sugar</th>\n",
       "      <th>chlorides</th>\n",
       "      <th>free sulfur dioxide</th>\n",
       "      <th>total sulfur dioxide</th>\n",
       "      <th>density</th>\n",
       "      <th>pH</th>\n",
       "      <th>sulphates</th>\n",
       "      <th>alcohol</th>\n",
       "      <th>quality</th>\n",
       "    </tr>\n",
       "  </thead>\n",
       "  <tbody>\n",
       "    <tr>\n",
       "      <th>0</th>\n",
       "      <td>7.4</td>\n",
       "      <td>0.70</td>\n",
       "      <td>0.00</td>\n",
       "      <td>1.9</td>\n",
       "      <td>0.076</td>\n",
       "      <td>11.0</td>\n",
       "      <td>34.0</td>\n",
       "      <td>0.9978</td>\n",
       "      <td>3.51</td>\n",
       "      <td>0.56</td>\n",
       "      <td>9.4</td>\n",
       "      <td>5</td>\n",
       "    </tr>\n",
       "    <tr>\n",
       "      <th>1</th>\n",
       "      <td>7.8</td>\n",
       "      <td>0.88</td>\n",
       "      <td>0.00</td>\n",
       "      <td>2.6</td>\n",
       "      <td>0.098</td>\n",
       "      <td>25.0</td>\n",
       "      <td>67.0</td>\n",
       "      <td>0.9968</td>\n",
       "      <td>3.20</td>\n",
       "      <td>0.68</td>\n",
       "      <td>9.8</td>\n",
       "      <td>5</td>\n",
       "    </tr>\n",
       "    <tr>\n",
       "      <th>2</th>\n",
       "      <td>7.8</td>\n",
       "      <td>0.76</td>\n",
       "      <td>0.04</td>\n",
       "      <td>2.3</td>\n",
       "      <td>0.092</td>\n",
       "      <td>15.0</td>\n",
       "      <td>54.0</td>\n",
       "      <td>0.9970</td>\n",
       "      <td>3.26</td>\n",
       "      <td>0.65</td>\n",
       "      <td>9.8</td>\n",
       "      <td>5</td>\n",
       "    </tr>\n",
       "    <tr>\n",
       "      <th>3</th>\n",
       "      <td>11.2</td>\n",
       "      <td>0.28</td>\n",
       "      <td>0.56</td>\n",
       "      <td>1.9</td>\n",
       "      <td>0.075</td>\n",
       "      <td>17.0</td>\n",
       "      <td>60.0</td>\n",
       "      <td>0.9980</td>\n",
       "      <td>3.16</td>\n",
       "      <td>0.58</td>\n",
       "      <td>9.8</td>\n",
       "      <td>6</td>\n",
       "    </tr>\n",
       "    <tr>\n",
       "      <th>4</th>\n",
       "      <td>7.4</td>\n",
       "      <td>0.70</td>\n",
       "      <td>0.00</td>\n",
       "      <td>1.9</td>\n",
       "      <td>0.076</td>\n",
       "      <td>11.0</td>\n",
       "      <td>34.0</td>\n",
       "      <td>0.9978</td>\n",
       "      <td>3.51</td>\n",
       "      <td>0.56</td>\n",
       "      <td>9.4</td>\n",
       "      <td>5</td>\n",
       "    </tr>\n",
       "  </tbody>\n",
       "</table>\n",
       "</div>"
      ],
      "text/plain": [
       "   fixed acidity  volatile acidity  citric acid  residual sugar  chlorides  \\\n",
       "0            7.4              0.70         0.00             1.9      0.076   \n",
       "1            7.8              0.88         0.00             2.6      0.098   \n",
       "2            7.8              0.76         0.04             2.3      0.092   \n",
       "3           11.2              0.28         0.56             1.9      0.075   \n",
       "4            7.4              0.70         0.00             1.9      0.076   \n",
       "\n",
       "   free sulfur dioxide  total sulfur dioxide  density    pH  sulphates  \\\n",
       "0                 11.0                  34.0   0.9978  3.51       0.56   \n",
       "1                 25.0                  67.0   0.9968  3.20       0.68   \n",
       "2                 15.0                  54.0   0.9970  3.26       0.65   \n",
       "3                 17.0                  60.0   0.9980  3.16       0.58   \n",
       "4                 11.0                  34.0   0.9978  3.51       0.56   \n",
       "\n",
       "   alcohol  quality  \n",
       "0      9.4        5  \n",
       "1      9.8        5  \n",
       "2      9.8        5  \n",
       "3      9.8        6  \n",
       "4      9.4        5  "
      ]
     },
     "execution_count": 15,
     "metadata": {},
     "output_type": "execute_result"
    }
   ],
   "source": [
    "df = pd.read_csv('../input/wine-quality-red/winequality-red.csv')\n",
    "df.head()"
   ]
  },
  {
   "cell_type": "code",
   "execution_count": 16,
   "id": "50cba65a",
   "metadata": {
    "execution": {
     "iopub.execute_input": "2022-07-22T00:46:44.997243Z",
     "iopub.status.busy": "2022-07-22T00:46:44.996804Z",
     "iopub.status.idle": "2022-07-22T00:46:45.011716Z",
     "shell.execute_reply": "2022-07-22T00:46:45.010120Z"
    },
    "papermill": {
     "duration": 0.045908,
     "end_time": "2022-07-22T00:46:45.014695",
     "exception": false,
     "start_time": "2022-07-22T00:46:44.968787",
     "status": "completed"
    },
    "tags": []
   },
   "outputs": [
    {
     "data": {
      "text/plain": [
       "total sulfur dioxide    65.0000\n",
       "free sulfur dioxide     21.0000\n",
       "fixed acidity            3.4000\n",
       "alcohol                  2.2000\n",
       "residual sugar           1.1650\n",
       "quality                  1.0000\n",
       "citric acid              0.4600\n",
       "volatile acidity         0.3515\n",
       "pH                       0.3000\n",
       "sulphates                0.2800\n",
       "chlorides                0.0350\n",
       "density                  0.0036\n",
       "dtype: float64"
      ]
     },
     "execution_count": 16,
     "metadata": {},
     "output_type": "execute_result"
    }
   ],
   "source": [
    "Q1 = df.quantile(0.15)\n",
    "Q3 = df.quantile(0.85)\n",
    "IQR = Q3 - Q1\n",
    "IQR.sort_values(ascending=False)"
   ]
  },
  {
   "cell_type": "code",
   "execution_count": 17,
   "id": "fe67ac12",
   "metadata": {
    "execution": {
     "iopub.execute_input": "2022-07-22T00:46:45.066592Z",
     "iopub.status.busy": "2022-07-22T00:46:45.066142Z",
     "iopub.status.idle": "2022-07-22T00:46:45.075237Z",
     "shell.execute_reply": "2022-07-22T00:46:45.074161Z"
    },
    "papermill": {
     "duration": 0.038513,
     "end_time": "2022-07-22T00:46:45.077802",
     "exception": false,
     "start_time": "2022-07-22T00:46:45.039289",
     "status": "completed"
    },
    "tags": []
   },
   "outputs": [],
   "source": [
    "wine1 = df [~((df < (Q1 - 1.5 * IQR)) |(df > (Q3 + 1.5 * IQR))).any(axis=1)]"
   ]
  },
  {
   "cell_type": "code",
   "execution_count": 18,
   "id": "2cd807bd",
   "metadata": {
    "execution": {
     "iopub.execute_input": "2022-07-22T00:46:45.128935Z",
     "iopub.status.busy": "2022-07-22T00:46:45.128535Z",
     "iopub.status.idle": "2022-07-22T00:46:45.134895Z",
     "shell.execute_reply": "2022-07-22T00:46:45.133708Z"
    },
    "papermill": {
     "duration": 0.03535,
     "end_time": "2022-07-22T00:46:45.137112",
     "exception": false,
     "start_time": "2022-07-22T00:46:45.101762",
     "status": "completed"
    },
    "tags": []
   },
   "outputs": [],
   "source": [
    "X = wine1.drop(['quality'],axis=1) \n",
    "y = wine1['quality']"
   ]
  },
  {
   "cell_type": "code",
   "execution_count": 19,
   "id": "ee69ab29",
   "metadata": {
    "execution": {
     "iopub.execute_input": "2022-07-22T00:46:45.188703Z",
     "iopub.status.busy": "2022-07-22T00:46:45.187311Z",
     "iopub.status.idle": "2022-07-22T00:46:45.255803Z",
     "shell.execute_reply": "2022-07-22T00:46:45.254785Z"
    },
    "papermill": {
     "duration": 0.096967,
     "end_time": "2022-07-22T00:46:45.258160",
     "exception": false,
     "start_time": "2022-07-22T00:46:45.161193",
     "status": "completed"
    },
    "tags": []
   },
   "outputs": [],
   "source": [
    "from sklearn.model_selection import train_test_split\n",
    "X_train,X_test,y_train,y_test = train_test_split(X,y,test_size=.20,random_state=21)"
   ]
  },
  {
   "cell_type": "markdown",
   "id": "44bfdeb6",
   "metadata": {
    "papermill": {
     "duration": 0.02272,
     "end_time": "2022-07-22T00:46:45.304534",
     "exception": false,
     "start_time": "2022-07-22T00:46:45.281814",
     "status": "completed"
    },
    "tags": []
   },
   "source": [
    "<h2 style=\"text-align: justify; font-family: 'WildWest'; font-size:25px; color:IndianRed\"> Without Scaling </h2>"
   ]
  },
  {
   "cell_type": "markdown",
   "id": "7b956a28",
   "metadata": {
    "papermill": {
     "duration": 0.022672,
     "end_time": "2022-07-22T00:46:45.350179",
     "exception": false,
     "start_time": "2022-07-22T00:46:45.327507",
     "status": "completed"
    },
    "tags": []
   },
   "source": [
    "### LogisticRegression"
   ]
  },
  {
   "cell_type": "code",
   "execution_count": 20,
   "id": "dfb4535e",
   "metadata": {
    "execution": {
     "iopub.execute_input": "2022-07-22T00:46:45.399319Z",
     "iopub.status.busy": "2022-07-22T00:46:45.398905Z",
     "iopub.status.idle": "2022-07-22T00:46:45.571713Z",
     "shell.execute_reply": "2022-07-22T00:46:45.570257Z"
    },
    "papermill": {
     "duration": 0.200768,
     "end_time": "2022-07-22T00:46:45.574558",
     "exception": false,
     "start_time": "2022-07-22T00:46:45.373790",
     "status": "completed"
    },
    "tags": []
   },
   "outputs": [
    {
     "name": "stdout",
     "output_type": "stream",
     "text": [
      "Training Accuracy    : 60.46 %\n",
      "Model Accuracy Score : 57.45 %\n"
     ]
    }
   ],
   "source": [
    "from sklearn.metrics import accuracy_score,classification_report,confusion_matrix,plot_confusion_matrix\n",
    "# Logistic Regression\n",
    "from sklearn.linear_model import LogisticRegression\n",
    "logreg = LogisticRegression()\n",
    "logreg.fit(X_train, y_train)\n",
    "y_pred_lr = logreg.predict(X_test)\n",
    "\n",
    "log_train = round(logreg.score(X_train, y_train) * 100, 2)\n",
    "log_accuracy_without_scaling = round(accuracy_score(y_pred_lr, y_test) * 100, 2)\n",
    "\n",
    "print(\"Training Accuracy    :\",log_train ,\"%\")\n",
    "print(\"Model Accuracy Score :\",log_accuracy_without_scaling ,\"%\")"
   ]
  },
  {
   "cell_type": "markdown",
   "id": "13d86792",
   "metadata": {
    "papermill": {
     "duration": 0.023265,
     "end_time": "2022-07-22T00:46:45.624066",
     "exception": false,
     "start_time": "2022-07-22T00:46:45.600801",
     "status": "completed"
    },
    "tags": []
   },
   "source": [
    "### SVM "
   ]
  },
  {
   "cell_type": "code",
   "execution_count": 21,
   "id": "58e7425e",
   "metadata": {
    "execution": {
     "iopub.execute_input": "2022-07-22T00:46:45.672197Z",
     "iopub.status.busy": "2022-07-22T00:46:45.671817Z",
     "iopub.status.idle": "2022-07-22T00:46:45.863249Z",
     "shell.execute_reply": "2022-07-22T00:46:45.861407Z"
    },
    "papermill": {
     "duration": 0.218633,
     "end_time": "2022-07-22T00:46:45.866004",
     "exception": false,
     "start_time": "2022-07-22T00:46:45.647371",
     "status": "completed"
    },
    "tags": []
   },
   "outputs": [
    {
     "name": "stdout",
     "output_type": "stream",
     "text": [
      "Training Accuracy    : 51.6 %\n",
      "Model Accuracy Score : 50.0 %\n"
     ]
    }
   ],
   "source": [
    "# Support Vector Machines\n",
    "from sklearn.svm import SVC\n",
    "svc = SVC()\n",
    "svc.fit(X_train, y_train)\n",
    "y_pred_svc = svc.predict(X_test)\n",
    "\n",
    "svc_train = round(svc.score(X_train, y_train) * 100, 2)\n",
    "svc_accuracy_without_scaling = round(accuracy_score(y_pred_svc, y_test) * 100, 2)\n",
    "\n",
    "print(\"Training Accuracy    :\",svc_train ,\"%\")\n",
    "print(\"Model Accuracy Score :\",svc_accuracy_without_scaling ,\"%\")\n"
   ]
  },
  {
   "cell_type": "markdown",
   "id": "9a978db9",
   "metadata": {
    "papermill": {
     "duration": 0.022735,
     "end_time": "2022-07-22T00:46:45.914508",
     "exception": false,
     "start_time": "2022-07-22T00:46:45.891773",
     "status": "completed"
    },
    "tags": []
   },
   "source": [
    "<h2 style=\"text-align: justify; font-family: 'WildWest'; font-size:25px; color:IndianRed\"> Normalization or Minmax Scaling </h2>\n",
    "\n",
    "Normalization is a scaling technique in which values are shifted and rescaled so that they end up ranging between 0 and 1. It is also known as Min-Max scaling.\n",
    "\n",
    "Here's the fromula for normalization : \n",
    "\n",
    "<center><img src=\"https://cdn.wallstreetmojo.com/wp-content/uploads/2019/05/Normalization-Formula.jpg.webp\" alt=\"Heart Disease\" width=\"40%\"></center>\n",
    "\n",
    "Here, Xmaximum and Xminimum are the maximum and the minimum values of the feature respectively.\n",
    "\n",
    "When the value of X is the minimum value in the column, the numerator will be 0, and hence X’ is 0\n",
    "On the other hand, when the value of X is the maximum value in the column, the numerator is equal to the denominator and thus the value of X’ is 1\n",
    "If the value of X is between the minimum and the maximum value, then the value of X’ is between 0 and 1\n",
    "\n",
    "- Normalization or Min-Max Scaling is used to transform features to be on a similar scale. The new point is calculated as:"
   ]
  },
  {
   "cell_type": "code",
   "execution_count": 22,
   "id": "b92acb26",
   "metadata": {
    "execution": {
     "iopub.execute_input": "2022-07-22T00:46:45.963713Z",
     "iopub.status.busy": "2022-07-22T00:46:45.962454Z",
     "iopub.status.idle": "2022-07-22T00:46:45.977680Z",
     "shell.execute_reply": "2022-07-22T00:46:45.976031Z"
    },
    "papermill": {
     "duration": 0.042989,
     "end_time": "2022-07-22T00:46:45.980776",
     "exception": false,
     "start_time": "2022-07-22T00:46:45.937787",
     "status": "completed"
    },
    "tags": []
   },
   "outputs": [],
   "source": [
    "from sklearn.preprocessing import MinMaxScaler\n",
    "scaler = MinMaxScaler()\n",
    "X_train = scaler.fit_transform(X_train)\n",
    "X_test = scaler.transform(X_test)\n",
    "\n",
    "X_train_minmax = pd.DataFrame(X_train, columns=X.columns)\n",
    "X_test_minmax = pd.DataFrame(X_test, columns=X.columns)"
   ]
  },
  {
   "cell_type": "markdown",
   "id": "9ac0cfa2",
   "metadata": {
    "papermill": {
     "duration": 0.024369,
     "end_time": "2022-07-22T00:46:46.030911",
     "exception": false,
     "start_time": "2022-07-22T00:46:46.006542",
     "status": "completed"
    },
    "tags": []
   },
   "source": [
    "### LogisticRegression"
   ]
  },
  {
   "cell_type": "code",
   "execution_count": 23,
   "id": "3e863660",
   "metadata": {
    "execution": {
     "iopub.execute_input": "2022-07-22T00:46:46.082409Z",
     "iopub.status.busy": "2022-07-22T00:46:46.081879Z",
     "iopub.status.idle": "2022-07-22T00:46:46.157086Z",
     "shell.execute_reply": "2022-07-22T00:46:46.155632Z"
    },
    "papermill": {
     "duration": 0.105396,
     "end_time": "2022-07-22T00:46:46.159761",
     "exception": false,
     "start_time": "2022-07-22T00:46:46.054365",
     "status": "completed"
    },
    "tags": []
   },
   "outputs": [
    {
     "name": "stdout",
     "output_type": "stream",
     "text": [
      "Training Accuracy    : 63.39 %\n",
      "Model Accuracy Score : 59.93 %\n"
     ]
    }
   ],
   "source": [
    "### from sklearn.metrics import accuracy_score,classification_report,confusion_matrix,plot_confusion_matrix,plot_roc_curve,plot_precision_recall_curve\n",
    "# Logistic Regression\n",
    "from sklearn.linear_model import LogisticRegression\n",
    "logreg = LogisticRegression()\n",
    "logreg.fit(X_train_minmax, y_train)\n",
    "y_pred_lr = logreg.predict(X_test_minmax)\n",
    "\n",
    "log_train = round(logreg.score(X_train_minmax, y_train) * 100, 2)\n",
    "log_accuracy_MinMax = round(accuracy_score(y_pred_lr, y_test) * 100, 2)\n",
    "\n",
    "print(\"Training Accuracy    :\",log_train ,\"%\")\n",
    "print(\"Model Accuracy Score :\",log_accuracy_MinMax ,\"%\")"
   ]
  },
  {
   "cell_type": "markdown",
   "id": "493e4448",
   "metadata": {
    "papermill": {
     "duration": 0.025435,
     "end_time": "2022-07-22T00:46:46.209363",
     "exception": false,
     "start_time": "2022-07-22T00:46:46.183928",
     "status": "completed"
    },
    "tags": []
   },
   "source": [
    "### SVC "
   ]
  },
  {
   "cell_type": "code",
   "execution_count": 24,
   "id": "14fbf8e0",
   "metadata": {
    "execution": {
     "iopub.execute_input": "2022-07-22T00:46:46.262556Z",
     "iopub.status.busy": "2022-07-22T00:46:46.260934Z",
     "iopub.status.idle": "2022-07-22T00:46:46.430192Z",
     "shell.execute_reply": "2022-07-22T00:46:46.428994Z"
    },
    "papermill": {
     "duration": 0.198776,
     "end_time": "2022-07-22T00:46:46.432864",
     "exception": false,
     "start_time": "2022-07-22T00:46:46.234088",
     "status": "completed"
    },
    "tags": []
   },
   "outputs": [
    {
     "name": "stdout",
     "output_type": "stream",
     "text": [
      "Training Accuracy    : 67.64 %\n",
      "Model Accuracy Score : 64.18 %\n"
     ]
    }
   ],
   "source": [
    "from sklearn.svm import SVC\n",
    "svc = SVC()\n",
    "svc.fit(X_train_minmax, y_train)\n",
    "y_pred_svc = svc.predict(X_test_minmax)\n",
    "\n",
    "svc_train = round(svc.score(X_train_minmax, y_train) * 100, 2)\n",
    "svc_accuracy_MinMax = round(accuracy_score(y_pred_svc, y_test) * 100, 2)\n",
    "\n",
    "print(\"Training Accuracy    :\",svc_train ,\"%\")\n",
    "print(\"Model Accuracy Score :\",svc_accuracy_MinMax ,\"%\")"
   ]
  },
  {
   "cell_type": "markdown",
   "id": "dce4ec0f",
   "metadata": {
    "papermill": {
     "duration": 0.022686,
     "end_time": "2022-07-22T00:46:46.478545",
     "exception": false,
     "start_time": "2022-07-22T00:46:46.455859",
     "status": "completed"
    },
    "tags": []
   },
   "source": [
    "<h2 style=\"text-align: justify; font-family: 'WildWest'; font-size:25px; color:IndianRed\"> StandardScaler </h2>\n",
    "\n",
    "Standardization is another scaling technique where the values are centered around the mean with a unit standard deviation. This means that the mean of the attribute becomes zero and the resultant distribution has a unit standard deviation\n",
    "\n",
    "Here's the formula for Standarization:\n",
    "\n",
    "<center><img src=\"https://cdn.wallstreetmojo.com/wp-content/uploads/2019/04/Sample-Standard-Deviation-Formula-2.jpg.webp\" alt=\"Heart Disease\" width=\"40%\"></center>\n",
    "\n",
    "\n",
    "In machine learning, It is a technique where are the values are centered around the mean with a unit standard deviation (µ=0 and σ=1). It means that the attributes of the mean are zero and the resultant distribution has a unit standard deviation\n",
    "\n",
    "Standardization or Z-Score Normalization is the transformation of features by subtracting from mean and dividing by standard deviation. This is often called as Z-score.\n",
    "\n",
    "Standardization can be helpful in cases where the data follows a Gaussian distribution. However, this does not have to be necessarily true. Geometrically speaking, it translates the data to the mean vector of original data to the origin and squishes or expands the points if std is 1 respectively. We can see that we are just changing mean and standard deviation to a standard normal distribution which is still normal thus the shape of the distribution is not affected.\n",
    "\n",
    "Standardization does not get affected by outliers because there is no predefined range of transformed features."
   ]
  },
  {
   "cell_type": "code",
   "execution_count": 25,
   "id": "77dfc0d3",
   "metadata": {
    "execution": {
     "iopub.execute_input": "2022-07-22T00:46:46.526324Z",
     "iopub.status.busy": "2022-07-22T00:46:46.525933Z",
     "iopub.status.idle": "2022-07-22T00:46:46.534009Z",
     "shell.execute_reply": "2022-07-22T00:46:46.532917Z"
    },
    "papermill": {
     "duration": 0.034669,
     "end_time": "2022-07-22T00:46:46.536379",
     "exception": false,
     "start_time": "2022-07-22T00:46:46.501710",
     "status": "completed"
    },
    "tags": []
   },
   "outputs": [],
   "source": [
    "from sklearn.preprocessing import StandardScaler\n",
    "scaler = StandardScaler()\n",
    "X_train = scaler.fit_transform(X_train)\n",
    "X_test = scaler.transform(X_test)\n",
    "\n",
    "X_train_standard = pd.DataFrame(X_train, columns=X.columns)\n",
    "X_test_standard = pd.DataFrame(X_test, columns=X.columns)"
   ]
  },
  {
   "cell_type": "code",
   "execution_count": 26,
   "id": "fa6decc7",
   "metadata": {
    "execution": {
     "iopub.execute_input": "2022-07-22T00:46:46.584606Z",
     "iopub.status.busy": "2022-07-22T00:46:46.584192Z",
     "iopub.status.idle": "2022-07-22T00:46:46.638333Z",
     "shell.execute_reply": "2022-07-22T00:46:46.637131Z"
    },
    "papermill": {
     "duration": 0.08183,
     "end_time": "2022-07-22T00:46:46.641284",
     "exception": false,
     "start_time": "2022-07-22T00:46:46.559454",
     "status": "completed"
    },
    "tags": []
   },
   "outputs": [
    {
     "name": "stdout",
     "output_type": "stream",
     "text": [
      "Training Accuracy    : 63.21 %\n",
      "Model Accuracy Score : 59.57 %\n"
     ]
    }
   ],
   "source": [
    "# Logistic Regression\n",
    "from sklearn.linear_model import LogisticRegression\n",
    "logreg = LogisticRegression()\n",
    "logreg.fit(X_train_standard, y_train)\n",
    "y_pred_lr = logreg.predict(X_test_standard)\n",
    "\n",
    "log_train = round(logreg.score(X_train_standard, y_train) * 100, 2)\n",
    "log_accuracy_std = round(accuracy_score(y_pred_lr, y_test) * 100, 2)\n",
    "\n",
    "print(\"Training Accuracy    :\",log_train ,\"%\")\n",
    "print(\"Model Accuracy Score :\",log_accuracy_std ,\"%\")"
   ]
  },
  {
   "cell_type": "code",
   "execution_count": 27,
   "id": "1f36ca1d",
   "metadata": {
    "execution": {
     "iopub.execute_input": "2022-07-22T00:46:46.690375Z",
     "iopub.status.busy": "2022-07-22T00:46:46.689693Z",
     "iopub.status.idle": "2022-07-22T00:46:46.857675Z",
     "shell.execute_reply": "2022-07-22T00:46:46.856460Z"
    },
    "papermill": {
     "duration": 0.195929,
     "end_time": "2022-07-22T00:46:46.860193",
     "exception": false,
     "start_time": "2022-07-22T00:46:46.664264",
     "status": "completed"
    },
    "tags": []
   },
   "outputs": [
    {
     "name": "stdout",
     "output_type": "stream",
     "text": [
      "Training Accuracy    : 69.77 %\n",
      "Model Accuracy Score : 63.48 %\n"
     ]
    }
   ],
   "source": [
    "from sklearn.metrics import accuracy_score,classification_report,confusion_matrix,plot_confusion_matrix\n",
    "# Support Vector Machines\n",
    "from sklearn.svm import SVC\n",
    "svc = SVC()\n",
    "svc.fit(X_train_standard, y_train)\n",
    "y_pred_svc = svc.predict(X_test_standard)\n",
    "\n",
    "svc_train = round(svc.score(X_train_standard, y_train) * 100, 2)\n",
    "svc_accuracy_std = round(accuracy_score(y_pred_svc, y_test) * 100, 2)\n",
    "\n",
    "print(\"Training Accuracy    :\",svc_train ,\"%\")\n",
    "print(\"Model Accuracy Score :\",svc_accuracy_std ,\"%\")"
   ]
  },
  {
   "cell_type": "markdown",
   "id": "672f2140",
   "metadata": {
    "papermill": {
     "duration": 0.023453,
     "end_time": "2022-07-22T00:46:46.907241",
     "exception": false,
     "start_time": "2022-07-22T00:46:46.883788",
     "status": "completed"
    },
    "tags": []
   },
   "source": [
    "<font color=\"IndianRed\" size=+2 face=\"WildWest\"><div style=\"text-align: StandardScaler\">Normalization vs Standardization </font>\n",
    "\n",
    "- The term normalization and standardization are used a lot in statistics and data science. We sometimes use them interchangeably. People usually get confused between these two terms. But there is a subtle difference between these two.\n",
    "\n",
    "-  scaling is one of the most important data preprocessing step in machine learning. Algorithms that compute the distance between the features are biased towards numerically larger values if the data is not scaled.\n",
    "\n",
    "- Tree-based algorithms are fairly insensitive to the scale of the features. Also, feature scaling helps machine learning, and deep learning algorithms train and converge faster.\n",
    "\n",
    "- There are some feature scaling techniques such as Normalization and Standardization that are the most popular and at the same time, the most confusing ones.\n",
    "\n",
    "\n",
    "<center><img src=\"https://www.someka.net/wp-content/uploads/2020/08/difference-between-normalization-standardization-1.png\" alt=\"Heart Disease\" width=\"60%\"></center>"
   ]
  },
  {
   "cell_type": "markdown",
   "id": "c327f542",
   "metadata": {
    "papermill": {
     "duration": 0.022986,
     "end_time": "2022-07-22T00:46:46.953626",
     "exception": false,
     "start_time": "2022-07-22T00:46:46.930640",
     "status": "completed"
    },
    "tags": []
   },
   "source": [
    "<font color=\"IndianRed\" size=+2 face=\"WildWest\"><div style=\"text-align: justify\">Difference between Normalization and Standardization</font>\n",
    "\n",
    "| _S.NO.__ | __Normalization__ | __Standardization__ |\n",
    "|------------|-------|------------|\n",
    "| 1    | Minimum and maximum value of features are used for scaling  |Mean and standard deviation is used for scaling.      |\n",
    "| 2   | It is used when features are of different scales | It is used when we want to ensure zero mean and unit standard deviation      |\n",
    "|3   | Scales values between [0, 1] or [-1, 1]. | It is not bounded to a certain range.      |\n",
    "|4    | It is really affected by outliers. | It is really affected by outliers.     |\n",
    "|5   | It is really affected by outliers. | Scikit-Learn provides a transformer called StandardScaler for standardization.     |\n",
    "| 6   | This transformation squishes the n-dimensional data into an n-dimensional unit hypercube. | It translates the data to the mean vector of original data to the origin and squishes or expands.      |\n",
    "|7    | It is useful when we don’t know about the distribution | It is useful when the feature distribution is Normal or Gaussian.      |\n",
    "| 8   | It is a often called as Scaling Normalization | It is a often called as Z-Score Normalization.      |\n"
   ]
  },
  {
   "cell_type": "markdown",
   "id": "eb855ec8",
   "metadata": {
    "papermill": {
     "duration": 0.024539,
     "end_time": "2022-07-22T00:46:47.001572",
     "exception": false,
     "start_time": "2022-07-22T00:46:46.977033",
     "status": "completed"
    },
    "tags": []
   },
   "source": [
    "In the End, the choice of using normalization or standardization will depend on your problem and the machine learning algorithm you are using. There is no hard and fast rule to tell you when to normalize or standardize your data. You can always start by fitting your model to raw, normalized and standardized data and compare the performance for best results.\n",
    "\n",
    "It is a good practice to fit the scaler on the training data and then use it to transform the testing data. This would avoid any data leakage during the model testing process. Also, the scaling of target values is generally not required."
   ]
  },
  {
   "cell_type": "markdown",
   "id": "a53ca9e1",
   "metadata": {
    "papermill": {
     "duration": 0.022782,
     "end_time": "2022-07-22T00:46:47.047763",
     "exception": false,
     "start_time": "2022-07-22T00:46:47.024981",
     "status": "completed"
    },
    "tags": []
   },
   "source": [
    "<h2 style=\"text-align: justify; font-family: 'WildWest'; font-size:25px; color:IndianRed\"> RobustScaler </h2>"
   ]
  },
  {
   "cell_type": "code",
   "execution_count": 28,
   "id": "3427de21",
   "metadata": {
    "execution": {
     "iopub.execute_input": "2022-07-22T00:46:47.099142Z",
     "iopub.status.busy": "2022-07-22T00:46:47.098250Z",
     "iopub.status.idle": "2022-07-22T00:46:47.108267Z",
     "shell.execute_reply": "2022-07-22T00:46:47.107476Z"
    },
    "papermill": {
     "duration": 0.039625,
     "end_time": "2022-07-22T00:46:47.110533",
     "exception": false,
     "start_time": "2022-07-22T00:46:47.070908",
     "status": "completed"
    },
    "tags": []
   },
   "outputs": [],
   "source": [
    "from sklearn.preprocessing import RobustScaler\n",
    "scaler = RobustScaler()\n",
    "X_train = scaler.fit_transform(X_train)\n",
    "X_test = scaler.transform(X_test)\n",
    "\n",
    "X_train_robust = pd.DataFrame(X_train, columns=X.columns)\n",
    "X_test_robust = pd.DataFrame(X_test, columns=X.columns)"
   ]
  },
  {
   "cell_type": "code",
   "execution_count": 29,
   "id": "7c36f169",
   "metadata": {
    "execution": {
     "iopub.execute_input": "2022-07-22T00:46:47.161233Z",
     "iopub.status.busy": "2022-07-22T00:46:47.160435Z",
     "iopub.status.idle": "2022-07-22T00:46:47.218266Z",
     "shell.execute_reply": "2022-07-22T00:46:47.217192Z"
    },
    "papermill": {
     "duration": 0.085851,
     "end_time": "2022-07-22T00:46:47.221440",
     "exception": false,
     "start_time": "2022-07-22T00:46:47.135589",
     "status": "completed"
    },
    "tags": []
   },
   "outputs": [
    {
     "name": "stdout",
     "output_type": "stream",
     "text": [
      "Training Accuracy    : 63.21 %\n",
      "Model Accuracy Score : 59.57 %\n"
     ]
    }
   ],
   "source": [
    "# Logistic Regression\n",
    "from sklearn.linear_model import LogisticRegression\n",
    "logreg = LogisticRegression()\n",
    "logreg.fit(X_train_robust, y_train)\n",
    "y_pred_lr = logreg.predict(X_test_robust)\n",
    "\n",
    "log_train = round(logreg.score(X_train_robust, y_train) * 100, 2)\n",
    "log_accuracy_Robust = round(accuracy_score(y_pred_lr, y_test) * 100, 2)\n",
    "\n",
    "print(\"Training Accuracy    :\",log_train ,\"%\")\n",
    "print(\"Model Accuracy Score :\",log_accuracy_Robust ,\"%\")"
   ]
  },
  {
   "cell_type": "code",
   "execution_count": 30,
   "id": "410e1ffe",
   "metadata": {
    "execution": {
     "iopub.execute_input": "2022-07-22T00:46:47.271641Z",
     "iopub.status.busy": "2022-07-22T00:46:47.270625Z",
     "iopub.status.idle": "2022-07-22T00:46:47.451872Z",
     "shell.execute_reply": "2022-07-22T00:46:47.450394Z"
    },
    "papermill": {
     "duration": 0.209033,
     "end_time": "2022-07-22T00:46:47.454998",
     "exception": false,
     "start_time": "2022-07-22T00:46:47.245965",
     "status": "completed"
    },
    "tags": []
   },
   "outputs": [
    {
     "name": "stdout",
     "output_type": "stream",
     "text": [
      "Training Accuracy    : 70.04 %\n",
      "Model Accuracy Score : 63.48 %\n"
     ]
    }
   ],
   "source": [
    "from sklearn.metrics import accuracy_score,classification_report,confusion_matrix,plot_confusion_matrix\n",
    "# Support Vector Machines\n",
    "from sklearn.svm import SVC\n",
    "svc = SVC()\n",
    "svc.fit(X_train_robust, y_train)\n",
    "y_pred_svc = svc.predict(X_test_robust)\n",
    "\n",
    "svc_train = round(svc.score(X_train_robust, y_train) * 100, 2)\n",
    "svc_accuracy_Robust = round(accuracy_score(y_pred_svc, y_test) * 100, 2)\n",
    "\n",
    "print(\"Training Accuracy    :\",svc_train ,\"%\")\n",
    "print(\"Model Accuracy Score :\",svc_accuracy_Robust ,\"%\")"
   ]
  },
  {
   "cell_type": "markdown",
   "id": "8d41861e",
   "metadata": {
    "papermill": {
     "duration": 0.023299,
     "end_time": "2022-07-22T00:46:47.509223",
     "exception": false,
     "start_time": "2022-07-22T00:46:47.485924",
     "status": "completed"
    },
    "tags": []
   },
   "source": [
    "<h2 style=\"text-align: justify; font-family: 'WildWest'; font-size:25px; color:IndianRed\"> Max Absolute Scaling </h2>\n",
    "\n",
    "The Max Absolute Scaler uses the absolute maximum value of the feature to scale the data into a range between 0 and 1 using this equation:\n",
    "\n",
    "Because this scaler uses only the absolute maximum value to scale the data, it is affected by outliers, but not by skewness. The Max Abs Scaler was specifically designed to conserve the sparseness of data.\n",
    "\n",
    "The Max Abs Scaler is best used on features with sparse data and no outliers. More information on how to use the MaxAbsScaler from sklearn can be found\n",
    "\n",
    "<center><img src=\"https://www.oreilly.com/library/view/python-feature-engineering/9781789806311/assets/d35ab4dd-7642-4e76-8cbf-cdc37a7fb4d8.png\" alt=\"Heart Disease\" width=\"20%\"></center>"
   ]
  },
  {
   "cell_type": "code",
   "execution_count": 31,
   "id": "4d3e2c54",
   "metadata": {
    "execution": {
     "iopub.execute_input": "2022-07-22T00:46:47.558026Z",
     "iopub.status.busy": "2022-07-22T00:46:47.557277Z",
     "iopub.status.idle": "2022-07-22T00:46:47.564582Z",
     "shell.execute_reply": "2022-07-22T00:46:47.563740Z"
    },
    "papermill": {
     "duration": 0.034519,
     "end_time": "2022-07-22T00:46:47.566951",
     "exception": false,
     "start_time": "2022-07-22T00:46:47.532432",
     "status": "completed"
    },
    "tags": []
   },
   "outputs": [],
   "source": [
    "from sklearn.preprocessing import MaxAbsScaler\n",
    "scaler = MaxAbsScaler()\n",
    "X_train = scaler.fit_transform(X_train)\n",
    "X_test = scaler.transform(X_test)\n",
    "\n",
    "X_train_MaxAbs = pd.DataFrame(X_train, columns=X.columns)\n",
    "X_test_MaxAbs = pd.DataFrame(X_test, columns=X.columns)"
   ]
  },
  {
   "cell_type": "code",
   "execution_count": 32,
   "id": "4b6ee3f3",
   "metadata": {
    "execution": {
     "iopub.execute_input": "2022-07-22T00:46:47.617297Z",
     "iopub.status.busy": "2022-07-22T00:46:47.616530Z",
     "iopub.status.idle": "2022-07-22T00:46:47.663568Z",
     "shell.execute_reply": "2022-07-22T00:46:47.662094Z"
    },
    "papermill": {
     "duration": 0.075282,
     "end_time": "2022-07-22T00:46:47.666988",
     "exception": false,
     "start_time": "2022-07-22T00:46:47.591706",
     "status": "completed"
    },
    "tags": []
   },
   "outputs": [
    {
     "name": "stdout",
     "output_type": "stream",
     "text": [
      "Training Accuracy    : 63.03 %\n",
      "Model Accuracy Score : 59.57 %\n"
     ]
    }
   ],
   "source": [
    "# Logistic Regression\n",
    "from sklearn.linear_model import LogisticRegression\n",
    "logreg = LogisticRegression()\n",
    "logreg.fit(X_train_MaxAbs, y_train)\n",
    "y_pred_lr = logreg.predict(X_test_MaxAbs)\n",
    "\n",
    "log_train = round(logreg.score(X_train_MaxAbs, y_train) * 100, 2)\n",
    "log_accuracy_MaxAbs = round(accuracy_score(y_pred_lr, y_test) * 100, 2)\n",
    "\n",
    "print(\"Training Accuracy    :\",log_train ,\"%\")\n",
    "print(\"Model Accuracy Score :\",log_accuracy_MaxAbs ,\"%\")"
   ]
  },
  {
   "cell_type": "code",
   "execution_count": 33,
   "id": "3769b0df",
   "metadata": {
    "execution": {
     "iopub.execute_input": "2022-07-22T00:46:47.717412Z",
     "iopub.status.busy": "2022-07-22T00:46:47.717007Z",
     "iopub.status.idle": "2022-07-22T00:46:47.882742Z",
     "shell.execute_reply": "2022-07-22T00:46:47.881229Z"
    },
    "papermill": {
     "duration": 0.193953,
     "end_time": "2022-07-22T00:46:47.885371",
     "exception": false,
     "start_time": "2022-07-22T00:46:47.691418",
     "status": "completed"
    },
    "tags": []
   },
   "outputs": [
    {
     "name": "stdout",
     "output_type": "stream",
     "text": [
      "Training Accuracy    : 68.71 %\n",
      "Model Accuracy Score : 62.06 %\n"
     ]
    }
   ],
   "source": [
    "# Support Vector Machines\n",
    "from sklearn.svm import SVC\n",
    "svc = SVC()\n",
    "svc.fit(X_train_MaxAbs, y_train)\n",
    "y_pred_svc = svc.predict(X_test_MaxAbs)\n",
    "\n",
    "svc_train = round(svc.score(X_train_MaxAbs, y_train) * 100, 2)\n",
    "svc_accuracy_MaxAbs = round(accuracy_score(y_pred_svc, y_test) * 100, 2)\n",
    "\n",
    "print(\"Training Accuracy    :\",svc_train ,\"%\")\n",
    "print(\"Model Accuracy Score :\",svc_accuracy_MaxAbs ,\"%\")"
   ]
  },
  {
   "cell_type": "markdown",
   "id": "74919b5f",
   "metadata": {
    "papermill": {
     "duration": 0.02396,
     "end_time": "2022-07-22T00:46:47.933141",
     "exception": false,
     "start_time": "2022-07-22T00:46:47.909181",
     "status": "completed"
    },
    "tags": []
   },
   "source": [
    "<h1 style=\"text-align: justify; font-family: 'WildWest'; font-size:25px; color:IndianRed\"> Comparing Different Models with different Scaling </h1>\n"
   ]
  },
  {
   "cell_type": "code",
   "execution_count": 34,
   "id": "510d2a6b",
   "metadata": {
    "execution": {
     "iopub.execute_input": "2022-07-22T00:46:47.983919Z",
     "iopub.status.busy": "2022-07-22T00:46:47.983227Z",
     "iopub.status.idle": "2022-07-22T00:46:47.989770Z",
     "shell.execute_reply": "2022-07-22T00:46:47.988797Z"
    },
    "papermill": {
     "duration": 0.034832,
     "end_time": "2022-07-22T00:46:47.991936",
     "exception": false,
     "start_time": "2022-07-22T00:46:47.957104",
     "status": "completed"
    },
    "tags": []
   },
   "outputs": [],
   "source": [
    "models = pd.DataFrame({\n",
    "    'Model': [\n",
    "        'LogisticRegression without Scaling','SVM without Scaling',\n",
    "        'LogisticRegression with MinMax Scaling','SVM with MinMax Scaling',\n",
    "        'LogisticRegression with StandardScaler Scaling','SVM with StandardScaler Scaling',\n",
    "        'LogisticRegression with RobustScaler Scaling','SVM with RobustScaler Scaling',\n",
    "        'LogisticRegression with MaxAbs Scaling','SVM with MaxAbs Scaling'\n",
    "    ],\n",
    "    'Model Accuracy Score': [\n",
    "        log_accuracy_without_scaling, svc_accuracy_without_scaling, \n",
    "        log_accuracy_MinMax, svc_accuracy_MinMax,\n",
    "        log_accuracy_std, svc_accuracy_std,\n",
    "        log_accuracy_Robust, svc_accuracy_Robust,\n",
    "        log_accuracy_MaxAbs, svc_accuracy_MaxAbs\n",
    "    ]\n",
    "})"
   ]
  },
  {
   "cell_type": "code",
   "execution_count": 35,
   "id": "1c8561c9",
   "metadata": {
    "execution": {
     "iopub.execute_input": "2022-07-22T00:46:48.042709Z",
     "iopub.status.busy": "2022-07-22T00:46:48.041988Z",
     "iopub.status.idle": "2022-07-22T00:46:48.125424Z",
     "shell.execute_reply": "2022-07-22T00:46:48.124208Z"
    },
    "papermill": {
     "duration": 0.111568,
     "end_time": "2022-07-22T00:46:48.128331",
     "exception": false,
     "start_time": "2022-07-22T00:46:48.016763",
     "status": "completed"
    },
    "tags": []
   },
   "outputs": [
    {
     "data": {
      "text/html": [
       "<style type=\"text/css\">\n",
       "#T_0910b_row0_col0, #T_0910b_row1_col0, #T_0910b_row2_col0, #T_0910b_row3_col0, #T_0910b_row4_col0, #T_0910b_row5_col0, #T_0910b_row6_col0, #T_0910b_row7_col0, #T_0910b_row8_col0, #T_0910b_row9_col0 {\n",
       "  font-family: Lucida Calligraphy;\n",
       "  color: LigntGreen;\n",
       "  font-size: 15px;\n",
       "}\n",
       "#T_0910b_row0_col1 {\n",
       "  background-color: #b40426;\n",
       "  color: #f1f1f1;\n",
       "  font-family: Lucida Calligraphy;\n",
       "  color: LigntGreen;\n",
       "  font-size: 15px;\n",
       "}\n",
       "#T_0910b_row1_col1, #T_0910b_row2_col1 {\n",
       "  background-color: #c53334;\n",
       "  color: #f1f1f1;\n",
       "  font-family: Lucida Calligraphy;\n",
       "  color: LigntGreen;\n",
       "  font-size: 15px;\n",
       "}\n",
       "#T_0910b_row3_col1 {\n",
       "  background-color: #e36c55;\n",
       "  color: #f1f1f1;\n",
       "  font-family: Lucida Calligraphy;\n",
       "  color: LigntGreen;\n",
       "  font-size: 15px;\n",
       "}\n",
       "#T_0910b_row4_col1 {\n",
       "  background-color: #f7ac8e;\n",
       "  color: #000000;\n",
       "  font-family: Lucida Calligraphy;\n",
       "  color: LigntGreen;\n",
       "  font-size: 15px;\n",
       "}\n",
       "#T_0910b_row5_col1, #T_0910b_row6_col1, #T_0910b_row7_col1 {\n",
       "  background-color: #f7b599;\n",
       "  color: #000000;\n",
       "  font-family: Lucida Calligraphy;\n",
       "  color: LigntGreen;\n",
       "  font-size: 15px;\n",
       "}\n",
       "#T_0910b_row8_col1 {\n",
       "  background-color: #e3d9d3;\n",
       "  color: #000000;\n",
       "  font-family: Lucida Calligraphy;\n",
       "  color: LigntGreen;\n",
       "  font-size: 15px;\n",
       "}\n",
       "#T_0910b_row9_col1 {\n",
       "  background-color: #3b4cc0;\n",
       "  color: #f1f1f1;\n",
       "  font-family: Lucida Calligraphy;\n",
       "  color: LigntGreen;\n",
       "  font-size: 15px;\n",
       "}\n",
       "</style>\n",
       "<table id=\"T_0910b_\">\n",
       "  <thead>\n",
       "    <tr>\n",
       "      <th class=\"col_heading level0 col0\" >Model</th>\n",
       "      <th class=\"col_heading level0 col1\" >Model Accuracy Score</th>\n",
       "    </tr>\n",
       "  </thead>\n",
       "  <tbody>\n",
       "    <tr>\n",
       "      <td id=\"T_0910b_row0_col0\" class=\"data row0 col0\" >SVM with MinMax Scaling</td>\n",
       "      <td id=\"T_0910b_row0_col1\" class=\"data row0 col1\" >64.18</td>\n",
       "    </tr>\n",
       "    <tr>\n",
       "      <td id=\"T_0910b_row1_col0\" class=\"data row1 col0\" >SVM with StandardScaler Scaling</td>\n",
       "      <td id=\"T_0910b_row1_col1\" class=\"data row1 col1\" >63.48</td>\n",
       "    </tr>\n",
       "    <tr>\n",
       "      <td id=\"T_0910b_row2_col0\" class=\"data row2 col0\" >SVM with RobustScaler Scaling</td>\n",
       "      <td id=\"T_0910b_row2_col1\" class=\"data row2 col1\" >63.48</td>\n",
       "    </tr>\n",
       "    <tr>\n",
       "      <td id=\"T_0910b_row3_col0\" class=\"data row3 col0\" >SVM with MaxAbs Scaling</td>\n",
       "      <td id=\"T_0910b_row3_col1\" class=\"data row3 col1\" >62.06</td>\n",
       "    </tr>\n",
       "    <tr>\n",
       "      <td id=\"T_0910b_row4_col0\" class=\"data row4 col0\" >LogisticRegression with MinMax Scaling</td>\n",
       "      <td id=\"T_0910b_row4_col1\" class=\"data row4 col1\" >59.93</td>\n",
       "    </tr>\n",
       "    <tr>\n",
       "      <td id=\"T_0910b_row5_col0\" class=\"data row5 col0\" >LogisticRegression with StandardScaler Scaling</td>\n",
       "      <td id=\"T_0910b_row5_col1\" class=\"data row5 col1\" >59.57</td>\n",
       "    </tr>\n",
       "    <tr>\n",
       "      <td id=\"T_0910b_row6_col0\" class=\"data row6 col0\" >LogisticRegression with RobustScaler Scaling</td>\n",
       "      <td id=\"T_0910b_row6_col1\" class=\"data row6 col1\" >59.57</td>\n",
       "    </tr>\n",
       "    <tr>\n",
       "      <td id=\"T_0910b_row7_col0\" class=\"data row7 col0\" >LogisticRegression with MaxAbs Scaling</td>\n",
       "      <td id=\"T_0910b_row7_col1\" class=\"data row7 col1\" >59.57</td>\n",
       "    </tr>\n",
       "    <tr>\n",
       "      <td id=\"T_0910b_row8_col0\" class=\"data row8 col0\" >LogisticRegression without Scaling</td>\n",
       "      <td id=\"T_0910b_row8_col1\" class=\"data row8 col1\" >57.45</td>\n",
       "    </tr>\n",
       "    <tr>\n",
       "      <td id=\"T_0910b_row9_col0\" class=\"data row9 col0\" >SVM without Scaling</td>\n",
       "      <td id=\"T_0910b_row9_col1\" class=\"data row9 col1\" >50.00</td>\n",
       "    </tr>\n",
       "  </tbody>\n",
       "</table>\n"
      ],
      "text/plain": [
       "<pandas.io.formats.style.Styler at 0x7f70acf70350>"
      ]
     },
     "execution_count": 35,
     "metadata": {},
     "output_type": "execute_result"
    }
   ],
   "source": [
    "pd.set_option('precision',2)\n",
    "\n",
    "models.sort_values(by='Model Accuracy Score', ascending=False).style.background_gradient(\n",
    "        cmap='coolwarm').hide_index().set_properties(**{\n",
    "            'font-family': 'Lucida Calligraphy',\n",
    "            'color': 'LigntGreen',\n",
    "            'font-size': '15px'\n",
    "        })"
   ]
  },
  {
   "cell_type": "markdown",
   "id": "ec456194",
   "metadata": {
    "papermill": {
     "duration": 0.023373,
     "end_time": "2022-07-22T00:46:48.175615",
     "exception": false,
     "start_time": "2022-07-22T00:46:48.152242",
     "status": "completed"
    },
    "tags": []
   },
   "source": [
    "<code style=\"background:yellow;color:red\">From the result it is concluded that the accuracy of SVM method is, highly depends on Standardization methods </code>"
   ]
  },
  {
   "cell_type": "markdown",
   "id": "805c6325",
   "metadata": {
    "execution": {
     "iopub.execute_input": "2022-07-22T00:20:24.352583Z",
     "iopub.status.busy": "2022-07-22T00:20:24.352287Z",
     "iopub.status.idle": "2022-07-22T00:20:24.366875Z",
     "shell.execute_reply": "2022-07-22T00:20:24.365108Z",
     "shell.execute_reply.started": "2022-07-22T00:20:24.352560Z"
    },
    "papermill": {
     "duration": 0.023235,
     "end_time": "2022-07-22T00:46:48.222363",
     "exception": false,
     "start_time": "2022-07-22T00:46:48.199128",
     "status": "completed"
    },
    "tags": []
   },
   "source": [
    "### Reference\n",
    "\n",
    "https://towardsdatascience.com/normalization-vs-standardization-explained-209e84d0f81e\n",
    "\n",
    "https://medium.com/@kumarvaishnav17/standardization-vs-normalization-in-machine-learning-3e132a19c8bf\n",
    "\n",
    "https://www.analyticsvidhya.com/blog/2020/04/feature-scaling-machine-learning-normalization-standardization/\n",
    "\n",
    "https://medium.com/analytics-vidhya/part-2-data-preparation-made-easy-with-python-633027bf6f28\n",
    "\n",
    "https://cindyreiner.medium.com/scaling-data-c85adb49c1bc"
   ]
  },
  {
   "cell_type": "markdown",
   "id": "3d1caabb",
   "metadata": {
    "papermill": {
     "duration": 0.023185,
     "end_time": "2022-07-22T00:46:48.269380",
     "exception": false,
     "start_time": "2022-07-22T00:46:48.246195",
     "status": "completed"
    },
    "tags": []
   },
   "source": []
  }
 ],
 "metadata": {
  "kernelspec": {
   "display_name": "Python 3",
   "language": "python",
   "name": "python3"
  },
  "language_info": {
   "codemirror_mode": {
    "name": "ipython",
    "version": 3
   },
   "file_extension": ".py",
   "mimetype": "text/x-python",
   "name": "python",
   "nbconvert_exporter": "python",
   "pygments_lexer": "ipython3",
   "version": "3.7.12"
  },
  "papermill": {
   "default_parameters": {},
   "duration": 23.080584,
   "end_time": "2022-07-22T00:46:49.116496",
   "environment_variables": {},
   "exception": null,
   "input_path": "__notebook__.ipynb",
   "output_path": "__notebook__.ipynb",
   "parameters": {},
   "start_time": "2022-07-22T00:46:26.035912",
   "version": "2.3.4"
  }
 },
 "nbformat": 4,
 "nbformat_minor": 5
}
